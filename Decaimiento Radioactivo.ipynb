{
 "cells": [
  {
   "cell_type": "code",
   "execution_count": 4,
   "metadata": {},
   "outputs": [],
   "source": [
    "%qtconsole"
   ]
  },
  {
   "cell_type": "code",
   "execution_count": 3,
   "metadata": {},
   "outputs": [],
   "source": [
    "import numpy as np\n",
    "import matplotlib.pyplot as plt\n",
    "from matplotlib.animation import FuncAnimation\n",
    "from matplotlib.widgets import Slider, TextBox\n",
    "%matplotlib qt"
   ]
  },
  {
   "cell_type": "markdown",
   "metadata": {},
   "source": [
    "# Curvas de decaimiento radiactivo dinamicas\n",
    "\n",
    "### Decaimiento radiactivo:\n",
    "\\begin{equation*}\n",
    "\\large\n",
    "N(t)   =  N(0)*e^{-\\lambda t}\n",
    "\\end{equation*}\n",
    "\n",
    "### Periodo de Semidesintegración:\n",
    "\\begin{equation*}\n",
    "\\large\n",
    "T_{1/2}   =  ln(2)/{\\lambda}\n",
    "\\end{equation*}\n",
    "\n",
    "### Mover el slider para cambiar el Tau e ingresar N (cantidad de particulas radiactivas)"
   ]
  },
  {
   "cell_type": "code",
   "execution_count": 2,
   "metadata": {},
   "outputs": [
    {
     "name": "stderr",
     "output_type": "stream",
     "text": [
      "C:\\Users\\Agustin\\Anaconda3\\lib\\site-packages\\ipykernel_launcher.py:20: UserWarning: Attempted to set non-positive bottom ylim on a log-scaled axis.\n",
      "Invalid limit will be ignored.\n",
      "C:\\Users\\Agustin\\Anaconda3\\lib\\site-packages\\ipykernel_launcher.py:21: UserWarning: Attempted to set non-positive bottom ylim on a log-scaled axis.\n",
      "Invalid limit will be ignored.\n"
     ]
    },
    {
     "data": {
      "image/png": "[encoded data removed]",
      "text/plain": [
       "<Figure size 432x288 with 4 Axes>"
      ]
     },
     "metadata": {
      "needs_background": "light"
     },
     "output_type": "display_data"
    }
   ],
   "source": [
    "N_cero = 100\n",
    "t_max = 100\n",
    "\n",
    "fig, ax = plt.subplots(1,2)\n",
    "\n",
    "t = np.arange(0.0, t_max, 0.001)\n",
    "initial_tau = 0.5\n",
    "porc = N_cero*np.exp((-1)*initial_tau*t) \n",
    "#l, = plt.plot(t, porc, lw=2)\n",
    "#Grafico lineal\n",
    "l, = ax[0].plot(t, porc, lw=2)\n",
    "#Grafico semilog-x\n",
    "ax[1].semilogy() \n",
    "llog, = ax[1].plot(t, porc, lw=2)\n",
    "\n",
    "initial_text = str(N_cero)\n",
    "\n",
    "#print(t)\n",
    "#print(porc)\n",
    "ax[0] = plt.axis([0,t_max,0,N_cero])\n",
    "ax[1] = plt.axis([0,t_max,0,N_cero]) #\n",
    "\n",
    "axtau = plt.axes([0.35, .05, 0.50, 0.02])\n",
    "# Slider\n",
    "stau = Slider(axtau, 'Tau', 0.01, 1, valinit=initial_tau)\n",
    "\n",
    "axbox = plt.axes([0.10, .05, 0.15, 0.02])\n",
    "text_box = TextBox(axbox, 'N(0)', initial=initial_text)\n",
    "\n",
    "\n",
    "#Funcion para modificar el tau de la curva\n",
    "def update(val):\n",
    "    # tau is the current value of the slider\n",
    "    tau = stau.val\n",
    "    #textInput es el valor actual del TextBox \n",
    "    textInput = float(text_box.text)\n",
    "    #print(textInput)\n",
    "    # update curve\n",
    "    l.set_ydata(textInput*np.exp((-1)*tau*t))\n",
    "    llog.set_ydata(textInput*np.exp((-1)*tau*t))\n",
    "    # redraw canvas while idle\n",
    "    fig.canvas.draw_idle()\n",
    "    \n",
    "#Funcion para modificar el N inicial\n",
    "def submit(text):\n",
    "    \n",
    "    #textInput es el valor actual del TextBox \n",
    "    textInput = eval(text)\n",
    "    # tau is the current value of the slider\n",
    "    tau = stau.val\n",
    "    \n",
    "    #Actualizo curva\n",
    "    l.set_ydata(textInput*np.exp((-1)*tau*t))\n",
    "    llog.set_ydata(textInput*np.exp((-1)*tau*t))\n",
    "    l.set_ylim(0, textInput)\n",
    "    \n",
    "    fig.canvas.draw_idle()\n",
    "    \n",
    "# call update function on slider value change\n",
    "stau.on_changed(update)\n",
    "\n",
    "# funcion para levantar los datos del TextBox\n",
    "text_box.on_submit(submit)\n",
    "\n",
    "plt.show()"
   ]
  },
  {
   "cell_type": "code",
   "execution_count": 22,
   "metadata": {},
   "outputs": [],
   "source": []
  },
  {
   "cell_type": "code",
   "execution_count": 47,
   "metadata": {},
   "outputs": [
    {
     "data": {
      "text/plain": [
       "[<matplotlib.lines.Line2D at 0x1fe964fcac8>]"
      ]
     },
     "execution_count": 47,
     "metadata": {},
     "output_type": "execute_result"
    }
   ],
   "source": []
  },
  {
   "cell_type": "markdown",
   "metadata": {},
   "source": [
    "# Animacion decaimiento Radiactivo: particulas y curvas"
   ]
  },
  {
   "cell_type": "code",
   "execution_count": 22,
   "metadata": {},
   "outputs": [
    {
     "name": "stdout",
     "output_type": "stream",
     "text": [
      "El T1/2 21672.0 es y el tau 3.1983535463268054e-05\n"
     ]
    },
    {
     "name": "stderr",
     "output_type": "stream",
     "text": [
      "C:\\Users\\Agustin\\Anaconda3\\lib\\site-packages\\ipykernel_launcher.py:41: FutureWarning: Passing (type, 1) or '1type' as a synonym of type is deprecated; in a future version of numpy, it will be understood as (type, (1,)) / '(1,)type'.\n"
     ]
    }
   ],
   "source": [
    "x_data = []\n",
    "y_dataLin = []\n",
    "y_dataLog = []\n",
    "\n",
    "N_cero = 100\n",
    "\n",
    "T_semi = (6.02*3600)\n",
    "initial_tau = np.log(2)/T_semi\n",
    "t_max = 5*T_semi #5 periodos de semidesintegracion\n",
    "\n",
    "print(\"El T1/2 {} es y el tau {}\".format(T_semi, initial_tau))\n",
    "\n",
    "fig, ax = plt.subplots(1,3)\n",
    "\n",
    "#Grafico lineal\n",
    "ax[1].set_xlim(0,t_max)\n",
    "ax[1].set_ylim(0,N_cero)\n",
    "ax[1].grid(True,which='both')\n",
    "ax[1].set_xticks(np.arange(0,t_max,T_semi))\n",
    "ax[1].set_xticklabels(['0','T1/2','2*T1/2','2*T1/2','4*T1/2'])\n",
    "lineLineal, = ax[1].plot(0,N_cero, lw=2)\n",
    "\n",
    "\n",
    "#Grafico semilog-x\n",
    "ax[2].semilogy() \n",
    "ax[2].set_xlim(0,t_max)\n",
    "ax[2].set_ylim(0.1,N_cero)\n",
    "ax[2].grid(True,which='both')\n",
    "ax[2].set_xticks(np.arange(0,t_max,T_semi))\n",
    "ax[2].set_xticklabels(['0','T1/2','2*T1/2','2*T1/2','4*T1/2'])\n",
    "lineLog, = ax[2].plot(0, N_cero, lw=2)\n",
    "\n",
    "#Genero puntos aleatorios x,y\n",
    "min = 0\n",
    "max = 1\n",
    "cantParticles = 500\n",
    "rng = np.random.default_rng()\n",
    "\n",
    "particles = np.zeros(cantParticles, dtype=[('xpos', float, 1),\n",
    "                                           ('ypos', float, 1),\n",
    "                                           ('color', float, 4)])\n",
    "particles['xpos'] = rng.random((cantParticles,))\n",
    "particles['ypos'] = rng.random((cantParticles,))\n",
    "particles['color'][:,:]=[1,0,0,0] #incialmente son todas de color rojo\n",
    "\n",
    "#xpos = rng.random((cantParticles,))\n",
    "#ypos = rng.random((cantParticles,))\n",
    "ax[0].set_xlim(min,max)\n",
    "ax[0].set_ylim(min,max)\n",
    "particlesPlot = ax[0].scatter(particles['xpos'],particles['ypos'],c=particles['color'][:,0:3]) #\n",
    "\n",
    "def animation_frame(i):\n",
    "    x_data.append(i)\n",
    "    new_y = N_cero*np.exp((-1)*initial_tau*i)\n",
    "    y_dataLin.append(new_y)\n",
    "    y_dataLog.append(new_y)\n",
    "    \n",
    "    lineLineal.set_xdata(x_data)\n",
    "    lineLineal.set_ydata(y_dataLin)\n",
    "    lineLog.set_xdata(x_data)\n",
    "    lineLog.set_ydata(y_dataLog)\n",
    "    \n",
    "    particles['color'][0:int(np.rint(cantParticles*(1-new_y/100))),:]=[0,0,1,0]\n",
    "    particlesPlot = ax[0].scatter(particles['xpos'],particles['ypos'],\n",
    "                                  c=particles['color'][:,0:3])\n",
    "\n",
    "    return lineLineal,lineLog,\n",
    "\n",
    "animation = FuncAnimation(fig, func=animation_frame, frames=np.arange(0,t_max+1,int(np.rint(T_semi/4))), interval=1)\n",
    "plt.show()\n",
    "    "
   ]
  },
  {
   "cell_type": "markdown",
   "metadata": {},
   "source": [
    "# Animacion lluvia de Ejemplo"
   ]
  },
  {
   "cell_type": "code",
   "execution_count": 36,
   "metadata": {},
   "outputs": [
    {
     "name": "stderr",
     "output_type": "stream",
     "text": [
      "C:\\Users\\Agustin\\Anaconda3\\lib\\site-packages\\ipykernel_launcher.py:12: FutureWarning: Passing (type, 1) or '1type' as a synonym of type is deprecated; in a future version of numpy, it will be understood as (type, (1,)) / '(1,)type'.\n",
      "  if sys.path[0] == '':\n"
     ]
    }
   ],
   "source": [
    "# Create new Figure and an Axes which fills it.\n",
    "fig = plt.figure(figsize=(7,7))\n",
    "ax = fig.add_axes([0, 0, 1, 1], frameon=False)\n",
    "ax.set_xlim(0,1), ax.set_xticks([])\n",
    "ax.set_ylim(0,1), ax.set_yticks([])\n",
    "\n",
    "# Create rain data\n",
    "n_drops = 50\n",
    "rain_drops = np.zeros(n_drops, dtype=[('position', float, 2),\n",
    "                                      ('size',     float, 1),\n",
    "                                      ('growth',   float, 1),\n",
    "                                      ('color',    float, 4)])\n",
    "\n",
    "# Initialize the raindrops in random positions and with\n",
    "# random growth rates.\n",
    "rain_drops['position'] = np.random.uniform(0, 1, (n_drops, 2))\n",
    "rain_drops['growth'] = np.random.uniform(50, 200, n_drops)\n",
    "\n",
    "# Construct the scatter which we will update during animation\n",
    "# as the raindrops develop.\n",
    "scat = ax.scatter(rain_drops['position'][:,0], rain_drops['position'][:,1],\n",
    "                  s=rain_drops['size'], lw=0.5, edgecolors=rain_drops['color'],\n",
    "                  facecolors='none')\n",
    "\n",
    "\n",
    "def update(frame_number):\n",
    "    # Get an index which we can use to re-spawn the oldest raindrop.\n",
    "    current_index = frame_number % n_drops\n",
    "\n",
    "    # Make all colors more transparent as time progresses.\n",
    "    rain_drops['color'][:, 3] -= 1.0/len(rain_drops)\n",
    "    rain_drops['color'][:,3] = np.clip(rain_drops['color'][:,3], 0, 1)\n",
    "\n",
    "    # Make all circles bigger.\n",
    "    rain_drops['size'] += rain_drops['growth']\n",
    "\n",
    "    # Pick a new position for oldest rain drop, resetting its size,\n",
    "    # color and growth factor.\n",
    "    rain_drops['position'][current_index] = np.random.uniform(0, 1, 2)\n",
    "    rain_drops['size'][current_index] = 5\n",
    "    rain_drops['color'][current_index] = (0, 0, 0, 1)\n",
    "    rain_drops['growth'][current_index] = np.random.uniform(50, 200)\n",
    "\n",
    "    # Update the scatter collection, with the new colors, sizes and positions.\n",
    "    scat.set_edgecolors(rain_drops['color'])\n",
    "    scat.set_sizes(rain_drops['size'])\n",
    "    scat.set_offsets(rain_drops['position'])\n",
    "\n",
    "\n",
    "# Construct the animation, using the update function as the animation\n",
    "# director.\n",
    "animation = FuncAnimation(fig, update, interval=10)\n",
    "plt.show()"
   ]
  }
 ],
 "metadata": {
  "kernelspec": {
   "display_name": "Python 3",
   "language": "python",
   "name": "python3"
  },
  "language_info": {
   "codemirror_mode": {
    "name": "ipython",
    "version": 3
   },
   "file_extension": ".py",
   "mimetype": "text/x-python",
   "name": "python",
   "nbconvert_exporter": "python",
   "pygments_lexer": "ipython3",
   "version": "3.7.4"
  }
 },
 "nbformat": 4,
 "nbformat_minor": 2
}
